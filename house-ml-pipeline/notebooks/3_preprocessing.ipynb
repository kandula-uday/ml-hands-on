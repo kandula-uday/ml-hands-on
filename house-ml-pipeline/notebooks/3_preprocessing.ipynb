{
 "cells": [
  {
   "cell_type": "markdown",
   "id": "ff5c2fdf",
   "metadata": {},
   "source": [
    "# 🧹 Data Preprocessing for Toronto Housing\n",
    "\n",
    "Now that we've explored the structure of our data, it's time to clean and prepare it for modeling.\n",
    "We'll handle missing values, encode categorical variables, scale features (optional), and split our dataset into training and test sets."
   ]
  },
  {
   "cell_type": "code",
   "execution_count": 3,
   "id": "eaa355d9",
   "metadata": {},
   "outputs": [
    {
     "data": {
      "text/html": [
       "<div>\n",
       "<style scoped>\n",
       "    .dataframe tbody tr th:only-of-type {\n",
       "        vertical-align: middle;\n",
       "    }\n",
       "\n",
       "    .dataframe tbody tr th {\n",
       "        vertical-align: top;\n",
       "    }\n",
       "\n",
       "    .dataframe thead th {\n",
       "        text-align: right;\n",
       "    }\n",
       "</style>\n",
       "<table border=\"1\" class=\"dataframe\">\n",
       "  <thead>\n",
       "    <tr style=\"text-align: right;\">\n",
       "      <th></th>\n",
       "      <th>address</th>\n",
       "      <th>price</th>\n",
       "      <th>details</th>\n",
       "      <th>bedrooms</th>\n",
       "      <th>bathrooms</th>\n",
       "      <th>category</th>\n",
       "      <th>city</th>\n",
       "    </tr>\n",
       "  </thead>\n",
       "  <tbody>\n",
       "    <tr>\n",
       "      <th>0</th>\n",
       "      <td>218 Golden Trl, Vaughan, ON L6A 5A1</td>\n",
       "      <td>1199000.0</td>\n",
       "      <td>3 bds3 ba- Townhouse for sale</td>\n",
       "      <td>3.0</td>\n",
       "      <td>3.0</td>\n",
       "      <td>Townhouse</td>\n",
       "      <td>Vaughan</td>\n",
       "    </tr>\n",
       "    <tr>\n",
       "      <th>1</th>\n",
       "      <td>24 Sicilia St, Vaughan, ON L4H 1G3</td>\n",
       "      <td>1399999.0</td>\n",
       "      <td>4 bds4 ba- House for sale</td>\n",
       "      <td>4.0</td>\n",
       "      <td>4.0</td>\n",
       "      <td>House</td>\n",
       "      <td>Vaughan</td>\n",
       "    </tr>\n",
       "    <tr>\n",
       "      <th>2</th>\n",
       "      <td>81 Mahogany Forest Dr, Vaughan, ON L6A 0T1</td>\n",
       "      <td>1258800.0</td>\n",
       "      <td>4 bds4 ba- House for sale</td>\n",
       "      <td>4.0</td>\n",
       "      <td>4.0</td>\n",
       "      <td>House</td>\n",
       "      <td>Vaughan</td>\n",
       "    </tr>\n",
       "    <tr>\n",
       "      <th>3</th>\n",
       "      <td>99 Abner Miles Dr, Vaughan, ON L6A 4X4</td>\n",
       "      <td>2299000.0</td>\n",
       "      <td>5 bds6 ba- House for sale</td>\n",
       "      <td>5.0</td>\n",
       "      <td>6.0</td>\n",
       "      <td>House</td>\n",
       "      <td>Vaughan</td>\n",
       "    </tr>\n",
       "    <tr>\n",
       "      <th>4</th>\n",
       "      <td>26 Bruce St #E17, Vaughan, ON L4L 0H4</td>\n",
       "      <td>649999.0</td>\n",
       "      <td>2 bds2 ba- Condo for sale</td>\n",
       "      <td>2.0</td>\n",
       "      <td>2.0</td>\n",
       "      <td>Condo</td>\n",
       "      <td>Vaughan</td>\n",
       "    </tr>\n",
       "  </tbody>\n",
       "</table>\n",
       "</div>"
      ],
      "text/plain": [
       "                                      address      price  \\\n",
       "0         218 Golden Trl, Vaughan, ON L6A 5A1  1199000.0   \n",
       "1          24 Sicilia St, Vaughan, ON L4H 1G3  1399999.0   \n",
       "2  81 Mahogany Forest Dr, Vaughan, ON L6A 0T1  1258800.0   \n",
       "3      99 Abner Miles Dr, Vaughan, ON L6A 4X4  2299000.0   \n",
       "4       26 Bruce St #E17, Vaughan, ON L4L 0H4   649999.0   \n",
       "\n",
       "                         details  bedrooms  bathrooms   category     city  \n",
       "0  3 bds3 ba- Townhouse for sale       3.0        3.0  Townhouse  Vaughan  \n",
       "1      4 bds4 ba- House for sale       4.0        4.0      House  Vaughan  \n",
       "2      4 bds4 ba- House for sale       4.0        4.0      House  Vaughan  \n",
       "3      5 bds6 ba- House for sale       5.0        6.0      House  Vaughan  \n",
       "4      2 bds2 ba- Condo for sale       2.0        2.0      Condo  Vaughan  "
      ]
     },
     "execution_count": 3,
     "metadata": {},
     "output_type": "execute_result"
    }
   ],
   "source": [
    "# 📦 Load Required Libraries\n",
    "import pandas as pd\n",
    "import numpy as np\n",
    "from sklearn.model_selection import train_test_split\n",
    "from sklearn.preprocessing import StandardScaler, OneHotEncoder\n",
    "from sklearn.compose import ColumnTransformer\n",
    "from sklearn.pipeline import Pipeline\n",
    "from sklearn.impute import SimpleImputer\n",
    "\n",
    "# 📂 Load Cleaned Dataset\n",
    "df = pd.read_csv('../data/processed/toronto_cleaned_housingdata.csv')\n",
    "df.head()"
   ]
  },
  {
   "cell_type": "markdown",
   "id": "b980081d",
   "metadata": {},
   "source": [
    "## 🔻 Step 1: Drop Rows with Missing Price\n",
    "We’ll drop rows where the price is missing, since price is our target variable."
   ]
  },
  {
   "cell_type": "code",
   "execution_count": 4,
   "id": "e00955d3",
   "metadata": {},
   "outputs": [
    {
     "name": "stdout",
     "output_type": "stream",
     "text": [
      "✅ Remaining rows after dropping missing prices: 3903\n"
     ]
    }
   ],
   "source": [
    "df = df.dropna(subset=['price'])\n",
    "print(f\"✅ Remaining rows after dropping missing prices: {len(df)}\")"
   ]
  },
  {
   "cell_type": "markdown",
   "id": "fe09de56",
   "metadata": {},
   "source": [
    "## 🛏️ Step 2: Impute Missing Bedrooms and Bathrooms\n",
    "We will use the median to fill missing bedroom and bathroom counts — a good strategy for skewed data."
   ]
  },
  {
   "cell_type": "code",
   "execution_count": 5,
   "id": "3a113e13",
   "metadata": {},
   "outputs": [
    {
     "name": "stderr",
     "output_type": "stream",
     "text": [
      "/var/folders/t3/45q3p6414nd6h5yk07t3tc8c0000gn/T/ipykernel_12717/3455890947.py:4: FutureWarning: A value is trying to be set on a copy of a DataFrame or Series through chained assignment using an inplace method.\n",
      "The behavior will change in pandas 3.0. This inplace method will never work because the intermediate object on which we are setting values always behaves as a copy.\n",
      "\n",
      "For example, when doing 'df[col].method(value, inplace=True)', try using 'df.method({col: value}, inplace=True)' or df[col] = df[col].method(value) instead, to perform the operation inplace on the original object.\n",
      "\n",
      "\n",
      "  df['bedrooms'].fillna(bed_median, inplace=True)\n",
      "/var/folders/t3/45q3p6414nd6h5yk07t3tc8c0000gn/T/ipykernel_12717/3455890947.py:5: FutureWarning: A value is trying to be set on a copy of a DataFrame or Series through chained assignment using an inplace method.\n",
      "The behavior will change in pandas 3.0. This inplace method will never work because the intermediate object on which we are setting values always behaves as a copy.\n",
      "\n",
      "For example, when doing 'df[col].method(value, inplace=True)', try using 'df.method({col: value}, inplace=True)' or df[col] = df[col].method(value) instead, to perform the operation inplace on the original object.\n",
      "\n",
      "\n",
      "  df['bathrooms'].fillna(bath_median, inplace=True)\n"
     ]
    },
    {
     "data": {
      "text/plain": [
       "bedrooms     0\n",
       "bathrooms    0\n",
       "dtype: int64"
      ]
     },
     "execution_count": 5,
     "metadata": {},
     "output_type": "execute_result"
    }
   ],
   "source": [
    "bed_median = df['bedrooms'].median()\n",
    "bath_median = df['bathrooms'].median()\n",
    "\n",
    "df['bedrooms'].fillna(bed_median, inplace=True)\n",
    "df['bathrooms'].fillna(bath_median, inplace=True)\n",
    "\n",
    "df[['bedrooms', 'bathrooms']].isnull().sum()"
   ]
  },
  {
   "cell_type": "markdown",
   "id": "6794b81b",
   "metadata": {},
   "source": [
    "## 🏷️ Step 3: Encode Categorical Features\n",
    "We’ll apply one-hot encoding to the `category` and `city` columns."
   ]
  },
  {
   "cell_type": "code",
   "execution_count": 6,
   "id": "3c641f50",
   "metadata": {},
   "outputs": [],
   "source": [
    "# Define features and target\n",
    "X = df[['bedrooms', 'bathrooms', 'category', 'city']]\n",
    "y = df['price']\n",
    "\n",
    "# Preprocessing pipeline\n",
    "numeric_features = ['bedrooms', 'bathrooms']\n",
    "categorical_features = ['category', 'city']\n",
    "\n",
    "numeric_transformer = Pipeline([\n",
    "    ('imputer', SimpleImputer(strategy='median')),\n",
    "    ('scaler', StandardScaler())\n",
    "])\n",
    "\n",
    "categorical_transformer = Pipeline([\n",
    "    ('imputer', SimpleImputer(strategy='most_frequent')),\n",
    "    ('onehot', OneHotEncoder(handle_unknown='ignore'))\n",
    "])\n",
    "\n",
    "preprocessor = ColumnTransformer([\n",
    "    ('num', numeric_transformer, numeric_features),\n",
    "    ('cat', categorical_transformer, categorical_features)\n",
    "])"
   ]
  },
  {
   "cell_type": "code",
   "execution_count": 7,
   "id": "ac3ebc86",
   "metadata": {},
   "outputs": [
    {
     "data": {
      "text/plain": [
       "['../data/models/preprocessor.pkl']"
      ]
     },
     "execution_count": 7,
     "metadata": {},
     "output_type": "execute_result"
    }
   ],
   "source": [
    "import joblib\n",
    "\n",
    "# Save the fitted preprocessor\n",
    "joblib.dump(preprocessor, \"../data/models/preprocessor.pkl\")"
   ]
  },
  {
   "cell_type": "markdown",
   "id": "bc3925af",
   "metadata": {},
   "source": [
    "## 🧪 Step 4: Split into Training and Test Sets\n",
    "We’ll use an 80/20 split for training and evaluation."
   ]
  },
  {
   "cell_type": "code",
   "execution_count": 8,
   "id": "fac36865",
   "metadata": {},
   "outputs": [
    {
     "name": "stdout",
     "output_type": "stream",
     "text": [
      "Training set: (3122, 4), Test set: (781, 4)\n"
     ]
    }
   ],
   "source": [
    "# Split the data\n",
    "X_train, X_test, y_train, y_test = train_test_split(X, y, test_size=0.2, random_state=42)\n",
    "print(f\"Training set: {X_train.shape}, Test set: {X_test.shape}\")"
   ]
  },
  {
   "cell_type": "markdown",
   "id": "9e036322",
   "metadata": {},
   "source": [
    "## ⚙️ Step 5: Fit Preprocessing Pipeline to Training Data"
   ]
  },
  {
   "cell_type": "code",
   "execution_count": 9,
   "id": "12e0bb70",
   "metadata": {},
   "outputs": [
    {
     "name": "stdout",
     "output_type": "stream",
     "text": [
      "✅ Transformed training data shape: (3122, 41)\n",
      "✅ Transformed test data shape: (781, 41)\n"
     ]
    }
   ],
   "source": [
    "# Fit the pipeline to training data\n",
    "X_train_processed = preprocessor.fit_transform(X_train)\n",
    "X_test_processed = preprocessor.transform(X_test)\n",
    "\n",
    "print(f\"✅ Transformed training data shape: {X_train_processed.shape}\")\n",
    "print(f\"✅ Transformed test data shape: {X_test_processed.shape}\")"
   ]
  },
  {
   "cell_type": "code",
   "execution_count": 10,
   "id": "fa044bcc",
   "metadata": {},
   "outputs": [],
   "source": [
    "import numpy as np\n",
    "\n",
    "np.save(\"../data/processed/X_train_processed.npy\", X_train_processed)\n",
    "np.save(\"../data/processed/X_test_processed.npy\", X_test_processed)\n",
    "np.save(\"../data/processed/y_train.npy\", y_train)\n",
    "np.save(\"../data/processed/y_test.npy\", y_test)\n",
    "\n"
   ]
  },
  {
   "cell_type": "code",
   "execution_count": 11,
   "id": "42e96393",
   "metadata": {},
   "outputs": [
    {
     "name": "stdout",
     "output_type": "stream",
     "text": [
      "✅ Preprocessed data saved successfully.\n"
     ]
    }
   ],
   "source": [
    "import joblib\n",
    "\n",
    "joblib.dump(X_train_processed, \"../data/processed/X_train_processed.pkl\")\n",
    "joblib.dump(X_test_processed, \"../data/processed/X_test_processed.pkl\")\n",
    "joblib.dump(y_train, \"../data/processed/y_train.pkl\")\n",
    "joblib.dump(y_test, \"../data/processed/y_test.pkl\")\n",
    "print(\"✅ Preprocessed data saved successfully.\")"
   ]
  }
 ],
 "metadata": {
  "kernelspec": {
   "display_name": "base",
   "language": "python",
   "name": "python3"
  },
  "language_info": {
   "codemirror_mode": {
    "name": "ipython",
    "version": 3
   },
   "file_extension": ".py",
   "mimetype": "text/x-python",
   "name": "python",
   "nbconvert_exporter": "python",
   "pygments_lexer": "ipython3",
   "version": "3.13.5"
  }
 },
 "nbformat": 4,
 "nbformat_minor": 5
}
